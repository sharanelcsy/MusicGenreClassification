{
 "cells": [
  {
   "cell_type": "code",
   "execution_count": 3,
   "metadata": {},
   "outputs": [],
   "source": [
    "import matplotlib.pyplot as plt\n",
    "import numpy as np\n",
    "import pyaudio\n",
    "from pyqtgraph.Qt import QtGui, QtCore\n",
    "import pyqtgraph as pg\n",
    "import struct\n",
    "from scipy.fftpack import fft\n",
    "import sys\n",
    "import time\n",
    "from tkinter import TclError\n",
    "\n",
    "%matplotlib tk"
   ]
  },
  {
   "cell_type": "code",
   "execution_count": 5,
   "metadata": {
    "pycharm": {
     "name": "#%%\n"
    }
   },
   "outputs": [
    {
     "name": "stdout",
     "output_type": "stream",
     "text": [
      "stopped\n"
     ]
    }
   ],
   "source": [
    "chunk=7000*2\n",
    "Format=pyaudio.paInt16\n",
    "channels=1\n",
    "rate=22050\n",
    "\n",
    "fig,ax=plt.subplots(1,figsize=(15,7))\n",
    "\n",
    "p=pyaudio.PyAudio()\n",
    "stream=p.open(format=Format,channels=channels,rate=rate,input=True,output=True,\n",
    "              frames_per_buffer=chunk)\n",
    "\n",
    "\n",
    "\n",
    "x=np.arange(0,2*chunk,2)\n",
    "line,=ax.plot(x,np.random.rand(chunk),'-',lw=2)\n",
    "ax.set_ylim(0,255)\n",
    "ax.set_xlim(0,2*chunk)\n",
    "plt.setp(ax,xticks=[0,chunk,2*chunk],yticks=[0,128,255])\n",
    "plt.show(block=False)\n",
    "while True:\n",
    "    data=stream.read(chunk)\n",
    "    data_np=np.array(struct.unpack(str(2*chunk)+'B',data),dtype='b')[::2]+128\n",
    "    line.set_ydata(data_np)\n",
    "    try:\n",
    "        fig.canvas.draw()\n",
    "        fig.canvas.flush_events()\n",
    "    except TclError:\n",
    "        print(\"stopped\")\n",
    "        break\n"
   ]
  },
  {
   "cell_type": "code",
   "execution_count": 5,
   "metadata": {},
   "outputs": [
    {
     "ename": "AttributeError",
     "evalue": "'_tkinter.tkapp' object has no attribute 'setGeometry'",
     "output_type": "error",
     "traceback": [
      "\u001b[1;31m---------------------------------------------------------------------------\u001b[0m",
      "\u001b[1;31mAttributeError\u001b[0m                            Traceback (most recent call last)",
      "\u001b[1;32m<ipython-input-5-8cf094c6a4a8>\u001b[0m in \u001b[0;36m<module>\u001b[1;34m\u001b[0m\n\u001b[0;32m     96\u001b[0m \u001b[1;33m\u001b[0m\u001b[0m\n\u001b[0;32m     97\u001b[0m \u001b[1;32mif\u001b[0m \u001b[0m__name__\u001b[0m \u001b[1;33m==\u001b[0m \u001b[1;34m'__main__'\u001b[0m\u001b[1;33m:\u001b[0m\u001b[1;33m\u001b[0m\u001b[1;33m\u001b[0m\u001b[0m\n\u001b[1;32m---> 98\u001b[1;33m     \u001b[0mAudioStream\u001b[0m\u001b[1;33m(\u001b[0m\u001b[1;33m)\u001b[0m\u001b[1;33m\u001b[0m\u001b[1;33m\u001b[0m\u001b[0m\n\u001b[0m",
      "\u001b[1;32m<ipython-input-5-8cf094c6a4a8>\u001b[0m in \u001b[0;36m__init__\u001b[1;34m(self)\u001b[0m\n\u001b[0;32m     19\u001b[0m             \u001b[0mframes_per_buffer\u001b[0m\u001b[1;33m=\u001b[0m\u001b[0mself\u001b[0m\u001b[1;33m.\u001b[0m\u001b[0mCHUNK\u001b[0m\u001b[1;33m,\u001b[0m\u001b[1;33m\u001b[0m\u001b[1;33m\u001b[0m\u001b[0m\n\u001b[0;32m     20\u001b[0m         )\n\u001b[1;32m---> 21\u001b[1;33m         \u001b[0mself\u001b[0m\u001b[1;33m.\u001b[0m\u001b[0minit_plots\u001b[0m\u001b[1;33m(\u001b[0m\u001b[1;33m)\u001b[0m\u001b[1;33m\u001b[0m\u001b[1;33m\u001b[0m\u001b[0m\n\u001b[0m\u001b[0;32m     22\u001b[0m         \u001b[0mself\u001b[0m\u001b[1;33m.\u001b[0m\u001b[0mstart_plot\u001b[0m\u001b[1;33m(\u001b[0m\u001b[1;33m)\u001b[0m\u001b[1;33m\u001b[0m\u001b[1;33m\u001b[0m\u001b[0m\n\u001b[0;32m     23\u001b[0m \u001b[1;33m\u001b[0m\u001b[0m\n",
      "\u001b[1;32m<ipython-input-5-8cf094c6a4a8>\u001b[0m in \u001b[0;36minit_plots\u001b[1;34m(self)\u001b[0m\n\u001b[0;32m     56\u001b[0m         \u001b[1;31m# show axes\u001b[0m\u001b[1;33m\u001b[0m\u001b[1;33m\u001b[0m\u001b[1;33m\u001b[0m\u001b[0m\n\u001b[0;32m     57\u001b[0m         \u001b[0mthismanager\u001b[0m \u001b[1;33m=\u001b[0m \u001b[0mplt\u001b[0m\u001b[1;33m.\u001b[0m\u001b[0mget_current_fig_manager\u001b[0m\u001b[1;33m(\u001b[0m\u001b[1;33m)\u001b[0m\u001b[1;33m\u001b[0m\u001b[1;33m\u001b[0m\u001b[0m\n\u001b[1;32m---> 58\u001b[1;33m         \u001b[0mthismanager\u001b[0m\u001b[1;33m.\u001b[0m\u001b[0mwindow\u001b[0m\u001b[1;33m.\u001b[0m\u001b[0msetGeometry\u001b[0m\u001b[1;33m(\u001b[0m\u001b[1;36m5\u001b[0m\u001b[1;33m,\u001b[0m \u001b[1;36m120\u001b[0m\u001b[1;33m,\u001b[0m \u001b[1;36m1910\u001b[0m\u001b[1;33m,\u001b[0m \u001b[1;36m1070\u001b[0m\u001b[1;33m)\u001b[0m\u001b[1;33m\u001b[0m\u001b[1;33m\u001b[0m\u001b[0m\n\u001b[0m\u001b[0;32m     59\u001b[0m         \u001b[0mplt\u001b[0m\u001b[1;33m.\u001b[0m\u001b[0mshow\u001b[0m\u001b[1;33m(\u001b[0m\u001b[0mblock\u001b[0m\u001b[1;33m=\u001b[0m\u001b[1;32mFalse\u001b[0m\u001b[1;33m)\u001b[0m\u001b[1;33m\u001b[0m\u001b[1;33m\u001b[0m\u001b[0m\n\u001b[0;32m     60\u001b[0m \u001b[1;33m\u001b[0m\u001b[0m\n",
      "\u001b[1;32m~\\AppData\\Local\\Programs\\Python\\Python37\\lib\\tkinter\\__init__.py\u001b[0m in \u001b[0;36m__getattr__\u001b[1;34m(self, attr)\u001b[0m\n\u001b[0;32m   2099\u001b[0m     \u001b[1;32mdef\u001b[0m \u001b[0m__getattr__\u001b[0m\u001b[1;33m(\u001b[0m\u001b[0mself\u001b[0m\u001b[1;33m,\u001b[0m \u001b[0mattr\u001b[0m\u001b[1;33m)\u001b[0m\u001b[1;33m:\u001b[0m\u001b[1;33m\u001b[0m\u001b[1;33m\u001b[0m\u001b[0m\n\u001b[0;32m   2100\u001b[0m         \u001b[1;34m\"Delegate attribute access to the interpreter object\"\u001b[0m\u001b[1;33m\u001b[0m\u001b[1;33m\u001b[0m\u001b[0m\n\u001b[1;32m-> 2101\u001b[1;33m         \u001b[1;32mreturn\u001b[0m \u001b[0mgetattr\u001b[0m\u001b[1;33m(\u001b[0m\u001b[0mself\u001b[0m\u001b[1;33m.\u001b[0m\u001b[0mtk\u001b[0m\u001b[1;33m,\u001b[0m \u001b[0mattr\u001b[0m\u001b[1;33m)\u001b[0m\u001b[1;33m\u001b[0m\u001b[1;33m\u001b[0m\u001b[0m\n\u001b[0m\u001b[0;32m   2102\u001b[0m \u001b[1;33m\u001b[0m\u001b[0m\n\u001b[0;32m   2103\u001b[0m \u001b[1;31m# Ideally, the classes Pack, Place and Grid disappear, the\u001b[0m\u001b[1;33m\u001b[0m\u001b[1;33m\u001b[0m\u001b[1;33m\u001b[0m\u001b[0m\n",
      "\u001b[1;31mAttributeError\u001b[0m: '_tkinter.tkapp' object has no attribute 'setGeometry'"
     ]
    }
   ],
   "source": [
    "class AudioStream(object):\n",
    "    def __init__(self):\n",
    "\n",
    "        # stream constants\n",
    "        self.CHUNK = 1024 * 2\n",
    "        self.FORMAT = pyaudio.paInt16\n",
    "        self.CHANNELS = 1\n",
    "        self.RATE = 44100\n",
    "        self.pause = False\n",
    "\n",
    "        # stream object\n",
    "        self.p = pyaudio.PyAudio()\n",
    "        self.stream = self.p.open(\n",
    "            format=self.FORMAT,\n",
    "            channels=self.CHANNELS,\n",
    "            rate=self.RATE,\n",
    "            input=True,\n",
    "            output=True,\n",
    "            frames_per_buffer=self.CHUNK,\n",
    "        )\n",
    "        self.init_plots()\n",
    "        self.start_plot()\n",
    "\n",
    "    def init_plots(self):\n",
    "\n",
    "        # x variables for plotting\n",
    "        x = np.arange(0, 2 * self.CHUNK, 2)\n",
    "        xf = np.linspace(0, self.RATE, self.CHUNK)\n",
    "\n",
    "        # create matplotlib figure and axes\n",
    "        self.fig, (ax1, ax2) = plt.subplots(2, figsize=(15, 7))\n",
    "        self.fig.canvas.mpl_connect('button_press_event', self.onClick)\n",
    "\n",
    "        # create a line object with random data\n",
    "        self.line, = ax1.plot(x, np.random.rand(self.CHUNK), '-', lw=2)\n",
    "\n",
    "        # create semilogx line for spectrum\n",
    "        self.line_fft, = ax2.semilogx(\n",
    "            xf, np.random.rand(self.CHUNK), '-', lw=2)\n",
    "\n",
    "        # format waveform axes\n",
    "        ax1.set_title('AUDIO WAVEFORM')\n",
    "        ax1.set_xlabel('samples')\n",
    "        ax1.set_ylabel('volume')\n",
    "        ax1.set_ylim(0, 255)\n",
    "        ax1.set_xlim(0, 2 * self.CHUNK)\n",
    "        plt.setp(\n",
    "            ax1, yticks=[0, 128, 255],\n",
    "            xticks=[0, self.CHUNK, 2 * self.CHUNK],\n",
    "        )\n",
    "        plt.setp(ax2, yticks=[0, 1],)\n",
    "\n",
    "        # format spectrum axes\n",
    "        ax2.set_xlim(20, self.RATE / 2)\n",
    "\n",
    "        # show axes\n",
    "        thismanager = plt.get_current_fig_manager()\n",
    "        thismanager.window.setGeometry(5, 120, 1910, 1070)\n",
    "        plt.show(block=False)\n",
    "\n",
    "    def start_plot(self):\n",
    "\n",
    "        print('stream started')\n",
    "        frame_count = 0\n",
    "        start_time = time.time()\n",
    "\n",
    "        while not self.pause:\n",
    "            data = self.stream.read(self.CHUNK)\n",
    "            data_int = struct.unpack(str(2 * self.CHUNK) + 'B', data)\n",
    "            data_np = np.array(data_int, dtype='b')[::2] + 128\n",
    "\n",
    "            self.line.set_ydata(data_np)\n",
    "\n",
    "            # compute FFT and update line\n",
    "            yf = fft(data_int)\n",
    "            self.line_fft.set_ydata(\n",
    "                np.abs(yf[0:self.CHUNK]) / (128 * self.CHUNK))\n",
    "\n",
    "            # update figure canvas\n",
    "            self.fig.canvas.draw()\n",
    "            self.fig.canvas.flush_events()\n",
    "            frame_count += 1\n",
    "\n",
    "        else:\n",
    "            self.fr = frame_count / (time.time() - start_time)\n",
    "            print('average frame rate = {:.0f} FPS'.format(self.fr))\n",
    "            self.exit_app()\n",
    "\n",
    "    def exit_app(self):\n",
    "        print('stream closed')\n",
    "        self.p.close(self.stream)\n",
    "\n",
    "    def onClick(self, event):\n",
    "        self.pause = True\n",
    "\n",
    "\n",
    "if __name__ == '__main__':\n",
    "    AudioStream()"
   ]
  },
  {
   "cell_type": "code",
   "execution_count": null,
   "metadata": {},
   "outputs": [],
   "source": []
  }
 ],
 "metadata": {
  "kernelspec": {
   "display_name": "Python 3",
   "language": "python",
   "name": "python3"
  },
  "language_info": {
   "codemirror_mode": {
    "name": "ipython",
    "version": 3
   },
   "file_extension": ".py",
   "mimetype": "text/x-python",
   "name": "python",
   "nbconvert_exporter": "python",
   "pygments_lexer": "ipython3",
   "version": "3.7.6"
  },
  "pycharm": {
   "stem_cell": {
    "cell_type": "raw",
    "source": [],
    "metadata": {
     "collapsed": false
    }
   }
  },
  "widgets": {
   "application/vnd.jupyter.widget-state+json": {
    "state": {},
    "version_major": 2,
    "version_minor": 0
   }
  }
 },
 "nbformat": 4,
 "nbformat_minor": 2
}